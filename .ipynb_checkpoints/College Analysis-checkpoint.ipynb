{
 "cells": [
  {
   "cell_type": "code",
   "execution_count": 1,
   "metadata": {},
   "outputs": [],
   "source": [
    "import pandas as pd\n",
    "import numpy as np\n",
    "from matplotlib import pylab as plt\n",
    "%matplotlib inline\n",
    "from matplotlib.colors import ListedColormap\n",
    "import matplotlib.cm as cm\n",
    "\n",
    "from sklearn.model_selection import train_test_split\n",
    "from sklearn.linear_model import LogisticRegression\n",
    "from sklearn.linear_model import LogisticRegressionCV\n",
    "from sklearn import naive_bayes\n",
    "from sklearn.neighbors import KNeighborsClassifier\n",
    "from sklearn.model_selection import GridSearchCV\n",
    "from sklearn.model_selection import KFold\n",
    "from sklearn import svm\n",
    "from sklearn.ensemble import RandomForestClassifier\n",
    "from sklearn.ensemble import GradientBoostingClassifier\n",
    "\n",
    "from sklearn.tree import DecisionTreeClassifier\n",
    "from sklearn.neural_network import MLPClassifier\n",
    "\n",
    "from sklearn.pipeline import Pipeline\n",
    "from sklearn.preprocessing import StandardScaler\n",
    "from sklearn.pipeline import make_pipeline\n",
    "\n",
    "from sklearn.metrics import accuracy_score, confusion_matrix, classification_report\n",
    "from sklearn.metrics import roc_curve, roc_auc_score, average_precision_score\n",
    "from sklearn.metrics import precision_recall_curve\n",
    "from sklearn.metrics import precision_score, recall_score\n",
    "\n",
    "from itertools import product\n",
    "\n",
    "from sklearn.feature_selection import SelectKBest\n",
    "from sklearn.feature_selection import chi2\n",
    "\n",
    "from scipy.stats import mode"
   ]
  },
  {
   "cell_type": "markdown",
   "metadata": {},
   "source": [
    "I pulled and cleaned a comprehensive dataset of colleges from this governmental database:\n",
    "    \n",
    "https://collegescorecard.ed.gov/data/\n",
    "\n",
    "Let's read this dataset in:"
   ]
  },
  {
   "cell_type": "code",
   "execution_count": 2,
   "metadata": {},
   "outputs": [
    {
     "name": "stdout",
     "output_type": "stream",
     "text": [
      "(6740, 46)\n"
     ]
    },
    {
     "data": {
      "text/html": [
       "<div>\n",
       "<style scoped>\n",
       "    .dataframe tbody tr th:only-of-type {\n",
       "        vertical-align: middle;\n",
       "    }\n",
       "\n",
       "    .dataframe tbody tr th {\n",
       "        vertical-align: top;\n",
       "    }\n",
       "\n",
       "    .dataframe thead th {\n",
       "        text-align: right;\n",
       "    }\n",
       "</style>\n",
       "<table border=\"1\" class=\"dataframe\">\n",
       "  <thead>\n",
       "    <tr style=\"text-align: right;\">\n",
       "      <th></th>\n",
       "      <th>name</th>\n",
       "      <th>ownership</th>\n",
       "      <th>ope6_id</th>\n",
       "      <th>state</th>\n",
       "      <th>size</th>\n",
       "      <th>accreditor</th>\n",
       "      <th>retention</th>\n",
       "      <th>branches</th>\n",
       "      <th>online_only</th>\n",
       "      <th>religious_affil</th>\n",
       "      <th>...</th>\n",
       "      <th>fafsa_sent</th>\n",
       "      <th>7_yr_repayment_completion</th>\n",
       "      <th>5_year_declining_balance</th>\n",
       "      <th>relig_y_n</th>\n",
       "      <th>accred_y_n</th>\n",
       "      <th>retention_listed_y_n</th>\n",
       "      <th>fac_salary_listed_y_n</th>\n",
       "      <th>7_yr_repayment_completion_y_n</th>\n",
       "      <th>5_year_declining_balance_y_n</th>\n",
       "      <th>for_profit</th>\n",
       "    </tr>\n",
       "  </thead>\n",
       "  <tbody>\n",
       "    <tr>\n",
       "      <th>0</th>\n",
       "      <td>Alaska Bible College</td>\n",
       "      <td>2</td>\n",
       "      <td>8843</td>\n",
       "      <td>AK</td>\n",
       "      <td>27</td>\n",
       "      <td>Association for Bibical Higher Educaiton</td>\n",
       "      <td>0.333300</td>\n",
       "      <td>1</td>\n",
       "      <td>0</td>\n",
       "      <td>88.0</td>\n",
       "      <td>...</td>\n",
       "      <td>0.463652</td>\n",
       "      <td>0.699542</td>\n",
       "      <td>0.496850</td>\n",
       "      <td>1</td>\n",
       "      <td>1</td>\n",
       "      <td>1</td>\n",
       "      <td>1</td>\n",
       "      <td>0</td>\n",
       "      <td>0</td>\n",
       "      <td>0</td>\n",
       "    </tr>\n",
       "    <tr>\n",
       "      <th>1</th>\n",
       "      <td>Alaska Christian College</td>\n",
       "      <td>2</td>\n",
       "      <td>41386</td>\n",
       "      <td>AK</td>\n",
       "      <td>68</td>\n",
       "      <td>Association for Bibical Higher Educaiton</td>\n",
       "      <td>0.473700</td>\n",
       "      <td>1</td>\n",
       "      <td>0</td>\n",
       "      <td>37.0</td>\n",
       "      <td>...</td>\n",
       "      <td>0.463652</td>\n",
       "      <td>0.699542</td>\n",
       "      <td>0.496850</td>\n",
       "      <td>1</td>\n",
       "      <td>1</td>\n",
       "      <td>1</td>\n",
       "      <td>1</td>\n",
       "      <td>0</td>\n",
       "      <td>0</td>\n",
       "      <td>0</td>\n",
       "    </tr>\n",
       "    <tr>\n",
       "      <th>2</th>\n",
       "      <td>Ilisagvik College</td>\n",
       "      <td>1</td>\n",
       "      <td>34613</td>\n",
       "      <td>AK</td>\n",
       "      <td>109</td>\n",
       "      <td>Northwest Commission on Colleges and Universities</td>\n",
       "      <td>0.809500</td>\n",
       "      <td>1</td>\n",
       "      <td>0</td>\n",
       "      <td>-2.0</td>\n",
       "      <td>...</td>\n",
       "      <td>0.463652</td>\n",
       "      <td>0.699542</td>\n",
       "      <td>0.496850</td>\n",
       "      <td>0</td>\n",
       "      <td>1</td>\n",
       "      <td>1</td>\n",
       "      <td>1</td>\n",
       "      <td>0</td>\n",
       "      <td>0</td>\n",
       "      <td>0</td>\n",
       "    </tr>\n",
       "    <tr>\n",
       "      <th>3</th>\n",
       "      <td>Charter College-Anchorage</td>\n",
       "      <td>3</td>\n",
       "      <td>25769</td>\n",
       "      <td>AK</td>\n",
       "      <td>3256</td>\n",
       "      <td>Accrediting Council for Independent Colleges a...</td>\n",
       "      <td>0.703723</td>\n",
       "      <td>1</td>\n",
       "      <td>0</td>\n",
       "      <td>-2.0</td>\n",
       "      <td>...</td>\n",
       "      <td>0.310288</td>\n",
       "      <td>0.725806</td>\n",
       "      <td>0.417949</td>\n",
       "      <td>0</td>\n",
       "      <td>1</td>\n",
       "      <td>0</td>\n",
       "      <td>1</td>\n",
       "      <td>1</td>\n",
       "      <td>1</td>\n",
       "      <td>1</td>\n",
       "    </tr>\n",
       "    <tr>\n",
       "      <th>4</th>\n",
       "      <td>Alaska Career College</td>\n",
       "      <td>3</td>\n",
       "      <td>25410</td>\n",
       "      <td>AK</td>\n",
       "      <td>479</td>\n",
       "      <td>Accrediting Commission of Career Schools and C...</td>\n",
       "      <td>0.794100</td>\n",
       "      <td>1</td>\n",
       "      <td>0</td>\n",
       "      <td>-2.0</td>\n",
       "      <td>...</td>\n",
       "      <td>0.254237</td>\n",
       "      <td>0.556430</td>\n",
       "      <td>0.462520</td>\n",
       "      <td>0</td>\n",
       "      <td>1</td>\n",
       "      <td>1</td>\n",
       "      <td>1</td>\n",
       "      <td>1</td>\n",
       "      <td>1</td>\n",
       "      <td>1</td>\n",
       "    </tr>\n",
       "  </tbody>\n",
       "</table>\n",
       "<p>5 rows × 46 columns</p>\n",
       "</div>"
      ],
      "text/plain": [
       "                        name  ownership  ope6_id state  size  \\\n",
       "0       Alaska Bible College          2     8843    AK    27   \n",
       "1   Alaska Christian College          2    41386    AK    68   \n",
       "2          Ilisagvik College          1    34613    AK   109   \n",
       "3  Charter College-Anchorage          3    25769    AK  3256   \n",
       "4      Alaska Career College          3    25410    AK   479   \n",
       "\n",
       "                                          accreditor  retention  branches  \\\n",
       "0           Association for Bibical Higher Educaiton   0.333300         1   \n",
       "1           Association for Bibical Higher Educaiton   0.473700         1   \n",
       "2  Northwest Commission on Colleges and Universities   0.809500         1   \n",
       "3  Accrediting Council for Independent Colleges a...   0.703723         1   \n",
       "4  Accrediting Commission of Career Schools and C...   0.794100         1   \n",
       "\n",
       "   online_only  religious_affil  ...  fafsa_sent  7_yr_repayment_completion  \\\n",
       "0            0             88.0  ...    0.463652                   0.699542   \n",
       "1            0             37.0  ...    0.463652                   0.699542   \n",
       "2            0             -2.0  ...    0.463652                   0.699542   \n",
       "3            0             -2.0  ...    0.310288                   0.725806   \n",
       "4            0             -2.0  ...    0.254237                   0.556430   \n",
       "\n",
       "   5_year_declining_balance  relig_y_n  accred_y_n  retention_listed_y_n  \\\n",
       "0                  0.496850          1           1                     1   \n",
       "1                  0.496850          1           1                     1   \n",
       "2                  0.496850          0           1                     1   \n",
       "3                  0.417949          0           1                     0   \n",
       "4                  0.462520          0           1                     1   \n",
       "\n",
       "   fac_salary_listed_y_n  7_yr_repayment_completion_y_n  \\\n",
       "0                      1                              0   \n",
       "1                      1                              0   \n",
       "2                      1                              0   \n",
       "3                      1                              1   \n",
       "4                      1                              1   \n",
       "\n",
       "   5_year_declining_balance_y_n  for_profit  \n",
       "0                             0           0  \n",
       "1                             0           0  \n",
       "2                             0           0  \n",
       "3                             1           1  \n",
       "4                             1           1  \n",
       "\n",
       "[5 rows x 46 columns]"
      ]
     },
     "execution_count": 2,
     "metadata": {},
     "output_type": "execute_result"
    }
   ],
   "source": [
    "df = pd.read_csv('data/schools.csv', index_col = 0)\n",
    "print(df.shape)\n",
    "df.head()"
   ]
  },
  {
   "cell_type": "markdown",
   "metadata": {},
   "source": [
    "We are going to use classification algorithms to try to predict for-profit or non-profit status. \n",
    "\n",
    "Some of the categories aren't applicable to what we want to do so let's consider the following columns only:\n"
   ]
  },
  {
   "cell_type": "code",
   "execution_count": 3,
   "metadata": {},
   "outputs": [
    {
     "data": {
      "text/html": [
       "<div>\n",
       "<style scoped>\n",
       "    .dataframe tbody tr th:only-of-type {\n",
       "        vertical-align: middle;\n",
       "    }\n",
       "\n",
       "    .dataframe tbody tr th {\n",
       "        vertical-align: top;\n",
       "    }\n",
       "\n",
       "    .dataframe thead th {\n",
       "        text-align: right;\n",
       "    }\n",
       "</style>\n",
       "<table border=\"1\" class=\"dataframe\">\n",
       "  <thead>\n",
       "    <tr style=\"text-align: right;\">\n",
       "      <th></th>\n",
       "      <th>size</th>\n",
       "      <th>retention</th>\n",
       "      <th>branches</th>\n",
       "      <th>online_only</th>\n",
       "      <th>under_investigation</th>\n",
       "      <th>most_common_degree</th>\n",
       "      <th>highest_degree</th>\n",
       "      <th>faculty_salary</th>\n",
       "      <th>instructional_expenditure_per_fte</th>\n",
       "      <th>tuition_revenue_per_fte</th>\n",
       "      <th>...</th>\n",
       "      <th>fafsa_sent</th>\n",
       "      <th>7_yr_repayment_completion</th>\n",
       "      <th>5_year_declining_balance</th>\n",
       "      <th>relig_y_n</th>\n",
       "      <th>accred_y_n</th>\n",
       "      <th>retention_listed_y_n</th>\n",
       "      <th>fac_salary_listed_y_n</th>\n",
       "      <th>7_yr_repayment_completion_y_n</th>\n",
       "      <th>5_year_declining_balance_y_n</th>\n",
       "      <th>for_profit</th>\n",
       "    </tr>\n",
       "  </thead>\n",
       "  <tbody>\n",
       "    <tr>\n",
       "      <th>0</th>\n",
       "      <td>27</td>\n",
       "      <td>0.333300</td>\n",
       "      <td>1</td>\n",
       "      <td>0</td>\n",
       "      <td>0</td>\n",
       "      <td>3</td>\n",
       "      <td>3</td>\n",
       "      <td>2201</td>\n",
       "      <td>9585</td>\n",
       "      <td>8132</td>\n",
       "      <td>...</td>\n",
       "      <td>0.463652</td>\n",
       "      <td>0.699542</td>\n",
       "      <td>0.496850</td>\n",
       "      <td>1</td>\n",
       "      <td>1</td>\n",
       "      <td>1</td>\n",
       "      <td>1</td>\n",
       "      <td>0</td>\n",
       "      <td>0</td>\n",
       "      <td>0</td>\n",
       "    </tr>\n",
       "    <tr>\n",
       "      <th>1</th>\n",
       "      <td>68</td>\n",
       "      <td>0.473700</td>\n",
       "      <td>1</td>\n",
       "      <td>0</td>\n",
       "      <td>0</td>\n",
       "      <td>1</td>\n",
       "      <td>2</td>\n",
       "      <td>5554</td>\n",
       "      <td>18174</td>\n",
       "      <td>12989</td>\n",
       "      <td>...</td>\n",
       "      <td>0.463652</td>\n",
       "      <td>0.699542</td>\n",
       "      <td>0.496850</td>\n",
       "      <td>1</td>\n",
       "      <td>1</td>\n",
       "      <td>1</td>\n",
       "      <td>1</td>\n",
       "      <td>0</td>\n",
       "      <td>0</td>\n",
       "      <td>0</td>\n",
       "    </tr>\n",
       "    <tr>\n",
       "      <th>2</th>\n",
       "      <td>109</td>\n",
       "      <td>0.809500</td>\n",
       "      <td>1</td>\n",
       "      <td>0</td>\n",
       "      <td>0</td>\n",
       "      <td>1</td>\n",
       "      <td>2</td>\n",
       "      <td>6054</td>\n",
       "      <td>38265</td>\n",
       "      <td>3587</td>\n",
       "      <td>...</td>\n",
       "      <td>0.463652</td>\n",
       "      <td>0.699542</td>\n",
       "      <td>0.496850</td>\n",
       "      <td>0</td>\n",
       "      <td>1</td>\n",
       "      <td>1</td>\n",
       "      <td>1</td>\n",
       "      <td>0</td>\n",
       "      <td>0</td>\n",
       "      <td>0</td>\n",
       "    </tr>\n",
       "    <tr>\n",
       "      <th>3</th>\n",
       "      <td>3256</td>\n",
       "      <td>0.703723</td>\n",
       "      <td>1</td>\n",
       "      <td>0</td>\n",
       "      <td>0</td>\n",
       "      <td>1</td>\n",
       "      <td>3</td>\n",
       "      <td>4004</td>\n",
       "      <td>2617</td>\n",
       "      <td>8755</td>\n",
       "      <td>...</td>\n",
       "      <td>0.310288</td>\n",
       "      <td>0.725806</td>\n",
       "      <td>0.417949</td>\n",
       "      <td>0</td>\n",
       "      <td>1</td>\n",
       "      <td>0</td>\n",
       "      <td>1</td>\n",
       "      <td>1</td>\n",
       "      <td>1</td>\n",
       "      <td>1</td>\n",
       "    </tr>\n",
       "    <tr>\n",
       "      <th>4</th>\n",
       "      <td>479</td>\n",
       "      <td>0.794100</td>\n",
       "      <td>1</td>\n",
       "      <td>0</td>\n",
       "      <td>0</td>\n",
       "      <td>1</td>\n",
       "      <td>2</td>\n",
       "      <td>3861</td>\n",
       "      <td>4178</td>\n",
       "      <td>11905</td>\n",
       "      <td>...</td>\n",
       "      <td>0.254237</td>\n",
       "      <td>0.556430</td>\n",
       "      <td>0.462520</td>\n",
       "      <td>0</td>\n",
       "      <td>1</td>\n",
       "      <td>1</td>\n",
       "      <td>1</td>\n",
       "      <td>1</td>\n",
       "      <td>1</td>\n",
       "      <td>1</td>\n",
       "    </tr>\n",
       "  </tbody>\n",
       "</table>\n",
       "<p>5 rows × 33 columns</p>\n",
       "</div>"
      ],
      "text/plain": [
       "   size  retention  branches  online_only  under_investigation  \\\n",
       "0    27   0.333300         1            0                    0   \n",
       "1    68   0.473700         1            0                    0   \n",
       "2   109   0.809500         1            0                    0   \n",
       "3  3256   0.703723         1            0                    0   \n",
       "4   479   0.794100         1            0                    0   \n",
       "\n",
       "   most_common_degree  highest_degree  faculty_salary  \\\n",
       "0                   3               3            2201   \n",
       "1                   1               2            5554   \n",
       "2                   1               2            6054   \n",
       "3                   1               3            4004   \n",
       "4                   1               2            3861   \n",
       "\n",
       "   instructional_expenditure_per_fte  tuition_revenue_per_fte  ...  \\\n",
       "0                               9585                     8132  ...   \n",
       "1                              18174                    12989  ...   \n",
       "2                              38265                     3587  ...   \n",
       "3                               2617                     8755  ...   \n",
       "4                               4178                    11905  ...   \n",
       "\n",
       "   fafsa_sent  7_yr_repayment_completion  5_year_declining_balance  relig_y_n  \\\n",
       "0    0.463652                   0.699542                  0.496850          1   \n",
       "1    0.463652                   0.699542                  0.496850          1   \n",
       "2    0.463652                   0.699542                  0.496850          0   \n",
       "3    0.310288                   0.725806                  0.417949          0   \n",
       "4    0.254237                   0.556430                  0.462520          0   \n",
       "\n",
       "   accred_y_n  retention_listed_y_n  fac_salary_listed_y_n  \\\n",
       "0           1                     1                      1   \n",
       "1           1                     1                      1   \n",
       "2           1                     1                      1   \n",
       "3           1                     0                      1   \n",
       "4           1                     1                      1   \n",
       "\n",
       "   7_yr_repayment_completion_y_n  5_year_declining_balance_y_n  for_profit  \n",
       "0                              0                             0           0  \n",
       "1                              0                             0           0  \n",
       "2                              0                             0           0  \n",
       "3                              1                             1           1  \n",
       "4                              1                             1           1  \n",
       "\n",
       "[5 rows x 33 columns]"
      ]
     },
     "execution_count": 3,
     "metadata": {},
     "output_type": "execute_result"
    }
   ],
   "source": [
    "X = df[['size','retention','branches', 'online_only', 'under_investigation', 'most_common_degree', 'highest_degree',\n",
    "       'faculty_salary', 'instructional_expenditure_per_fte',\n",
    "       'tuition_revenue_per_fte', 'part_time_share',\n",
    "       'age_entry', 'percent_dependent', 'first_generation', 'percent_black',\n",
    "        'avg_family_income','ind_low_income', 'dep_low_income', 'loan_principal',\n",
    "       'federal_loan_rate', 'students_with_any_loans',\n",
    "       'pell_grant_debt', 'percent_pell_grant',\n",
    "       'fafsa_sent', '7_yr_repayment_completion', '5_year_declining_balance',\n",
    "       'relig_y_n', 'accred_y_n', 'retention_listed_y_n',\n",
    "       'fac_salary_listed_y_n', '7_yr_repayment_completion_y_n',\n",
    "       '5_year_declining_balance_y_n', 'for_profit']]\n",
    "X.head()"
   ]
  },
  {
   "cell_type": "markdown",
   "metadata": {},
   "source": [
    "Let's first use a method called [SelectKBest](https://scikit-learn.org/stable/modules/generated/sklearn.feature_selection.chi2.html) to see which features have the most statistically significant relationships with profit status. The **lower** the p value, the **more** statistically significant:"
   ]
  },
  {
   "cell_type": "code",
   "execution_count": 4,
   "metadata": {},
   "outputs": [
    {
     "name": "stdout",
     "output_type": "stream",
     "text": [
      "P-values chi2-value feature\n"
     ]
    },
    {
     "data": {
      "text/plain": [
       "[(0.0, 12404.547883866173, 'branches'),\n",
       " (0.0, 269420.1721130245, 'faculty_salary'),\n",
       " (0.0, 334098.3016091004, 'tuition_revenue_per_fte'),\n",
       " (0.0, 1005983.2293898761, 'loan_principal'),\n",
       " (0.0, 1015549.896769437, 'pell_grant_debt'),\n",
       " (0.0, 5174988.431393105, 'instructional_expenditure_per_fte'),\n",
       " (0.0, 7042459.415396081, 'size'),\n",
       " (0.0, 16541293.414557599, 'avg_family_income'),\n",
       " (5.339096890496358e-283, 1292.295746680256, 'highest_degree'),\n",
       " (2.3550018048916394e-222, 1013.2602182660283, 'most_common_degree'),\n",
       " (5.4025502611485345e-149, 675.8261484425834, 'fac_salary_listed_y_n'),\n",
       " (8.240679129762035e-148, 670.3846153846155, 'relig_y_n'),\n",
       " (5.293172158552389e-143, 648.2775262782213, 'age_entry'),\n",
       " (1.4125160311604572e-48, 214.52818347401757, 'percent_dependent'),\n",
       " (1.429381130658807e-24, 104.68836240069287, '5_year_declining_balance'),\n",
       " (1.3527931483014932e-21, 91.11910345707668, 'federal_loan_rate'),\n",
       " (6.095800240149601e-17, 69.94575322493884, 'percent_black'),\n",
       " (3.249757484508949e-15, 62.108921773607705, 'fafsa_sent'),\n",
       " (2.3099399670292976e-10, 40.18517979737982, '7_yr_repayment_completion'),\n",
       " (5.332261659651546e-09, 34.064226625190386, 'first_generation'),\n",
       " (1.4079344574521532e-08, 32.17636010382412, 'part_time_share'),\n",
       " (1.51637032044754e-08, 32.03221441127519, 'dep_low_income'),\n",
       " (5.389960032435694e-08, 29.571210059165196, 'percent_pell_grant'),\n",
       " (2.9423628117769607e-06, 21.85378075892149, 'students_with_any_loans'),\n",
       " (9.035892891499908e-06, 19.705120416070333, 'under_investigation'),\n",
       " (0.006314439338573356, 7.458306214893529, 'retention_listed_y_n'),\n",
       " (0.012536378966747178, 6.2333861231360235, 'online_only'),\n",
       " (0.01746153785302311, 5.64938070352772, 'ind_low_income'),\n",
       " (0.5021649291685133, 0.4503581384821148, '5_year_declining_balance_y_n'),\n",
       " (0.6158853388832327, 0.2516932282746059, 'retention'),\n",
       " (0.8250416943743915, 0.048869806703303494, 'accred_y_n'),\n",
       " (0.9230148052834302, 0.009338677390885057, '7_yr_repayment_completion_y_n')]"
      ]
     },
     "execution_count": 4,
     "metadata": {},
     "output_type": "execute_result"
    }
   ],
   "source": [
    "y = X.pop('for_profit')\n",
    "\n",
    "X_new = SelectKBest(chi2, k=2).fit(X, y)\n",
    "\n",
    "features = []\n",
    "for i, column in enumerate(X.columns):\n",
    "    features.append((X_new.pvalues_[i],X_new.scores_[i], column))\n",
    "features.sort()\n",
    "print( 'P-values','chi2-value', 'feature')\n",
    "features\n"
   ]
  },
  {
   "cell_type": "markdown",
   "metadata": {},
   "source": [
    "1.Based on the info above, what was intuitive? What was surprising? How big (or small) of an effect does accredition have on for-profit status? What might be some guesses as to why this is the case?"
   ]
  },
  {
   "cell_type": "markdown",
   "metadata": {},
   "source": [
    "#insert 1\n",
    "Varaibles like 'avg_family_income', 'faculty_salary', 'tuition_revenue_per_fte', etc, are all directly connected to financial aspects. It makes sense that they are most statistically significanlly related to profit status. It's surprising to me that '7_yr_repayment_completion_y_n' has such a high p value. The ability of students to pay their loans should be more related to profit status since intuitively, students are thought to be exploited more by for-profit schools and are expected to have a harder time paying off their debts. A p-value of 0.825 suggests that there is about 82.5% chance that accredition have no effect on for-profit status. It seems that accreditation has very little effect on for-profit status. Perhaps, profit status is one of the acrreditation standards."
   ]
  },
  {
   "cell_type": "markdown",
   "metadata": {},
   "source": [
    "2.Do a test/train split and give the testing accuracy error for logistic regression."
   ]
  },
  {
   "cell_type": "code",
   "execution_count": 5,
   "metadata": {},
   "outputs": [
    {
     "name": "stdout",
     "output_type": "stream",
     "text": [
      "train accuracy  0.913734633319203\n",
      "test accuracy 0.9223541048466865\n"
     ]
    }
   ],
   "source": [
    "#insert 2\n",
    "X_train, X_test, y_train, y_test = train_test_split(X, y, test_size=0.3, random_state=90) #split\n",
    "\n",
    "X_trainq = X_train.drop(columns = ['relig_y_n', 'accred_y_n', 'retention_listed_y_n',\n",
    "       'fac_salary_listed_y_n', '7_yr_repayment_completion_y_n',\n",
    "       '5_year_declining_balance_y_n', 'online_only', 'under_investigation']) #isolate quantative variables since we don't want to scale dummy variables\n",
    "\n",
    "X_testq = X_test.drop(columns = ['relig_y_n', 'accred_y_n', 'retention_listed_y_n',\n",
    "       'fac_salary_listed_y_n', '7_yr_repayment_completion_y_n',\n",
    "       '5_year_declining_balance_y_n', 'online_only', 'under_investigation'])\n",
    "scaler = StandardScaler()\n",
    "X_trainq = scaler.fit_transform(X_trainq)\n",
    "X_testq = scaler.fit_transform(X_testq) #scale qunatitative variables\n",
    "X_train = X_train.reset_index(drop = True) #reset index so that individual data in X_train would match its counterpart in X_trainq\n",
    "X_test = X_test.reset_index(drop = True)\n",
    "X_trainq = pd.DataFrame(X_trainq, columns = ['size','retention','branches', 'most_common_degree', 'highest_degree',\n",
    "       'faculty_salary', 'instructional_expenditure_per_fte',\n",
    "       'tuition_revenue_per_fte', 'part_time_share',\n",
    "       'age_entry', 'percent_dependent', 'first_generation', 'percent_black',\n",
    "        'avg_family_income','ind_low_income', 'dep_low_income', 'loan_principal',\n",
    "       'federal_loan_rate', 'students_with_any_loans',\n",
    "       'pell_grant_debt', 'percent_pell_grant',\n",
    "       'fafsa_sent', '7_yr_repayment_completion', '5_year_declining_balance']) \n",
    "\n",
    "for categorical_variable in ['relig_y_n', 'accred_y_n', 'retention_listed_y_n',\n",
    "      'fac_salary_listed_y_n', '7_yr_repayment_completion_y_n',\n",
    "       '5_year_declining_balance_y_n', 'online_only', 'under_investigation']:\n",
    "    X_trainq[categorical_variable] = X_train[categorical_variable] #add the categorical variables back to the scaled dataframe\n",
    "\n",
    "X_train = X_trainq.values #convert to array so that it can be used in Regression models.\n",
    "\n",
    "X_testq = pd.DataFrame(X_testq, columns = ['size','retention','branches', 'most_common_degree', 'highest_degree',\n",
    "       'faculty_salary', 'instructional_expenditure_per_fte',\n",
    "       'tuition_revenue_per_fte', 'part_time_share',\n",
    "       'age_entry', 'percent_dependent', 'first_generation', 'percent_black',\n",
    "        'avg_family_income','ind_low_income', 'dep_low_income', 'loan_principal',\n",
    "       'federal_loan_rate', 'students_with_any_loans',\n",
    "       'pell_grant_debt', 'percent_pell_grant',\n",
    "       'fafsa_sent', '7_yr_repayment_completion', '5_year_declining_balance'])\n",
    "\n",
    "for categorical_variable in ['relig_y_n', 'accred_y_n', 'retention_listed_y_n',\n",
    "       'fac_salary_listed_y_n', '7_yr_repayment_completion_y_n',\n",
    "       '5_year_declining_balance_y_n', 'online_only', 'under_investigation']:\n",
    "    X_testq[categorical_variable] = X_test[categorical_variable]\n",
    "    \n",
    "X_test = X_testq.values\n",
    "\n",
    "model = LogisticRegression(multi_class = \"auto\", solver = 'lbfgs', max_iter=10000)\n",
    "model.fit(X_train, y_train)\n",
    "\n",
    "print('train accuracy ', model.score(X_train, y_train))\n",
    "print('test accuracy', model.score(X_test,y_test))"
   ]
  },
  {
   "cell_type": "markdown",
   "metadata": {},
   "source": [
    "3.Find the optimal number of nearest neighbors for KNN using grid search and then give the test accuracy. "
   ]
  },
  {
   "cell_type": "code",
   "execution_count": 6,
   "metadata": {},
   "outputs": [
    {
     "name": "stdout",
     "output_type": "stream",
     "text": [
      "test accuracy 0.9332344213649851\n"
     ]
    }
   ],
   "source": [
    "#insert 3\n",
    "param_grid = {'n_neighbors': range(1, 20)}\n",
    "\n",
    "model = GridSearchCV(KNeighborsClassifier(), \n",
    "                    param_grid, \n",
    "                    cv=3, \n",
    "                    scoring='accuracy')\n",
    "\n",
    "model = model.fit(X_train, y_train)\n",
    "\n",
    "#print(model.best_params_, model.best_estimator_)\n",
    "model = model.best_estimator_\n",
    "\n",
    "print('test accuracy', model.score(X_test, y_test))"
   ]
  },
  {
   "cell_type": "markdown",
   "metadata": {},
   "source": [
    "4.Run a classification report and describe in detail what the terms mean in the context of your model."
   ]
  },
  {
   "cell_type": "code",
   "execution_count": 7,
   "metadata": {},
   "outputs": [
    {
     "name": "stdout",
     "output_type": "stream",
     "text": [
      "              precision    recall  f1-score   support\n",
      "\n",
      "           0       0.94      0.94      0.94      1145\n",
      "           1       0.93      0.92      0.92       877\n",
      "\n",
      "    accuracy                           0.93      2022\n",
      "   macro avg       0.93      0.93      0.93      2022\n",
      "weighted avg       0.93      0.93      0.93      2022\n",
      "\n"
     ]
    }
   ],
   "source": [
    "#insert 4\n",
    "print(classification_report(y_test, model.predict(X_test)))"
   ]
  },
  {
   "cell_type": "markdown",
   "metadata": {},
   "source": [
    "**Precision:**\n",
    "\n",
    "Out of all colleges that the model predicts to be non-profit, 94% of them are labeled correctly.\n",
    "\n",
    "Out of all colleges that the model predicts to be for-profit, 93% of them are labeled correctly.\n",
    "\n",
    "**Recall:**\n",
    "\n",
    "The model correcly labels 94% of all non-profit colleges.\n",
    "\n",
    "The model correcly lablels 92% of all for-profit colleges.\n",
    "\n",
    "\n",
    "**Support:**\n",
    "\n",
    "The actual numbers of non-profit and for-profit colleges are 1145 and 877 respectively.\n",
    "\n",
    "**Accuracy:**\n",
    "\n",
    "The model is correct on labelling the profit status of colleges 93% of time.\n",
    "\n",
    "\n"
   ]
  },
  {
   "cell_type": "markdown",
   "metadata": {},
   "source": [
    "5.Print a confusion matrix and describe what it means in your context."
   ]
  },
  {
   "cell_type": "code",
   "execution_count": 8,
   "metadata": {},
   "outputs": [
    {
     "name": "stdout",
     "output_type": "stream",
     "text": [
      "[[1080   65]\n",
      " [  70  807]]\n"
     ]
    }
   ],
   "source": [
    "#insert 5\n",
    "print(confusion_matrix(y_test, model.predict(X_test)))"
   ]
  },
  {
   "cell_type": "markdown",
   "metadata": {},
   "source": [
    "The model correcly labels 1080 non-profit colleges while it mislabels 65 other non-profit colleges as for-profit ones.\n",
    "\n",
    "The model correly labels 807 for-profit colleges while it mislabels 70 other for-profit colleges as non-profit ones."
   ]
  },
  {
   "cell_type": "markdown",
   "metadata": {},
   "source": [
    "6.Make a comparative ROC plot of the naive bayes, logistic, gradient boosting, and KNN classifiers."
   ]
  },
  {
   "cell_type": "code",
   "execution_count": 9,
   "metadata": {},
   "outputs": [
    {
     "data": {
      "image/png": "[encoded data removed]",
      "text/plain": [
       "<Figure size 432x288 with 1 Axes>"
      ]
     },
     "metadata": {
      "needs_background": "light"
     },
     "output_type": "display_data"
    }
   ],
   "source": [
    "#insert 6\n",
    "y_proba_KNN = model.predict_proba(X_test)[:, 1]\n",
    "model = LogisticRegression(multi_class = \"auto\", solver = 'lbfgs', max_iter=10000)\n",
    "model.fit(X_train, y_train)\n",
    "\n",
    "# accuracy for test & train:    \n",
    "y_proba_LR = model.predict_proba(X_test)[:, 1]\n",
    "\n",
    "model = GradientBoostingClassifier()\n",
    "model.fit(X_train, y_train)\n",
    "\n",
    "# accuracy for test & train:    \n",
    "y_proba_GB = model.predict_proba(X_test)[:, 1]\n",
    "\n",
    "model = naive_bayes.GaussianNB()\n",
    "model.fit(X_train, y_train)\n",
    "   \n",
    "y_proba_NB = model.predict_proba(X_test)[:, 1]\n",
    "\n",
    "def plot_roc(ytrue, yproba, model, title='some ROC curve'):\n",
    "    auc = roc_auc_score(ytrue, yproba)\n",
    "    fpr, tpr, thr = roc_curve(ytrue, yproba)\n",
    "    plt.plot([0, 1], [0, 1], color='k', linestyle='--', linewidth=.4)\n",
    "    plt.plot(fpr, tpr, label='{} auc={:.2f}%'.format(model, auc*100))\n",
    "    plt.axis('equal')\n",
    "    plt.xlim([-.02, 1.02])\n",
    "    plt.ylim([-.02, 1.02])\n",
    "    plt.ylabel('tpr')\n",
    "    plt.xlabel('fpr')\n",
    "    plt.title(title)\n",
    "    plt.legend(loc='best')\n",
    "    plt.grid(True)\n",
    "\n",
    "plot_roc(y_test, y_proba_NB, \"Naive Bayes\")\n",
    "plot_roc(y_test, y_proba_GB, \"Gradient Boosting\")\n",
    "plot_roc(y_test, y_proba_LR, \"Log Regression\")\n",
    "plot_roc(y_test, y_proba_KNN,\"KNN\")"
   ]
  },
  {
   "cell_type": "markdown",
   "metadata": {
    "collapsed": true
   },
   "source": [
    "7.Using the logistic regression model, plot a decision boundary between instructional_expenditure_per_fte and 5_year_declining_balance. Does it appear that for-profit status has a clear boundary based on these predictors?"
   ]
  },
  {
   "cell_type": "code",
   "execution_count": 10,
   "metadata": {},
   "outputs": [
    {
     "name": "stdout",
     "output_type": "stream",
     "text": [
      "          0             1\n",
      "0  0.211986  5.109826e-15\n",
      "1  1.104804  5.109826e-15\n",
      "2  3.193243  5.109826e-15\n",
      "3 -0.512331 -4.539314e-01\n",
      "4 -0.350067 -1.975064e-01\n"
     ]
    }
   ],
   "source": [
    "X_2 = df[['instructional_expenditure_per_fte', '5_year_declining_balance']]\n",
    "#print(X_2.head())\n",
    "X_scaler = StandardScaler()\n",
    "X_2 = X_scaler.fit_transform(X_2)\n",
    "X_2 = pd.DataFrame(X_2)\n",
    "print(X_2.head())\n"
   ]
  },
  {
   "cell_type": "code",
   "execution_count": 11,
   "metadata": {},
   "outputs": [
    {
     "data": {
      "text/plain": [
       "(-2.941558886777559, 3.1784411132224464)"
      ]
     },
     "execution_count": 11,
     "metadata": {},
     "output_type": "execute_result"
    },
    {
     "data": {
      "image/png": "[encoded data removed]",
      "text/plain": [
       "<Figure size 288x216 with 1 Axes>"
      ]
     },
     "metadata": {
      "needs_background": "light"
     },
     "output_type": "display_data"
    }
   ],
   "source": [
    "#insert 7\n",
    "model = LogisticRegression(multi_class = \"auto\", solver = 'lbfgs', max_iter=10000)\n",
    "\n",
    "\n",
    "Q = X_2.values\n",
    "h = .02  # meshsize\n",
    "x_min, x_max = Q[:, 0].min() - .5, Q[:, 0].max() + .5 \n",
    "y_min, y_max = Q[:, 1].min() - .5, Q[:, 1].max() + .5\n",
    "#print(x_min,x_max)\n",
    "xx, yy = np.meshgrid(np.arange(x_min, x_max, h), np.arange(y_min, y_max, h))\n",
    "model.fit(X_2.iloc[:,:2], y)\n",
    "Z = model.predict(np.c_[xx.ravel(), yy.ravel()]) # ravel() flattens the data\n",
    "\n",
    "# Put the result into a color plot\n",
    "Z = Z.reshape(xx.shape)\n",
    "plt.figure(1, figsize=(4, 3))\n",
    "plt.pcolormesh(xx, yy, Z, cmap=plt.cm.Paired)\n",
    "\n",
    "# Plot also the training points\n",
    "plt.scatter(Q[:, 0], Q[:, 1], c=y, edgecolors='k', cmap=plt.cm.Paired)\n",
    "plt.title('Decision boundaries with 2 attributes')\n",
    "plt.xlabel('instructional_expenditure_per_fte')\n",
    "plt.ylabel('5_year_declining_balance')\n",
    "\n",
    "plt.xlim(xx.min(), 10)\n",
    "plt.ylim(yy.min(), yy.max())"
   ]
  },
  {
   "cell_type": "markdown",
   "metadata": {
    "scrolled": true
   },
   "source": [
    "8.We have not covered random forests but they are a very popular type of classifier. It is very good practice in reading the docs to get a new classifier working. Read [this](https://scikit-learn.org/stable/modules/generated/sklearn.ensemble.RandomForestClassifier.html) and then apply the RandomForestClassifier()."
   ]
  },
  {
   "cell_type": "code",
   "execution_count": 12,
   "metadata": {},
   "outputs": [
    {
     "name": "stdout",
     "output_type": "stream",
     "text": [
      "test accuracy 0.9460929772502473\n"
     ]
    }
   ],
   "source": [
    "#insert 8\n",
    "model = RandomForestClassifier(n_estimators=100)\n",
    "model.fit(X_train, y_train)\n",
    "y_proba_RF = model.predict_proba(X_test)[:, 1]\n",
    "#print('train accuracy ', model.score(X_train, y_train))\n",
    "print('test accuracy', model.score(X_test,y_test))"
   ]
  },
  {
   "cell_type": "markdown",
   "metadata": {},
   "source": [
    "9.Support vector machines are another type of classifier. Read the docs [here](https://scikit-learn.org/stable/modules/generated/sklearn.svm.SVC.html) and then try implementing that one."
   ]
  },
  {
   "cell_type": "code",
   "execution_count": 13,
   "metadata": {},
   "outputs": [
    {
     "name": "stdout",
     "output_type": "stream",
     "text": [
      "test accuracy 0.9362017804154302\n"
     ]
    }
   ],
   "source": [
    "#insert 9\n",
    "model = svm.SVC(gamma= 'auto',probability = True)\n",
    "model.fit(X_train, y_train)\n",
    "y_proba_SVM = model.predict_proba(X_test)[:, 1]\n",
    "y_pred = model.predict(X_test)\n",
    "\n",
    "#print('train accuracy ', model.score(X_train, y_train))\n",
    "print('test accuracy', accuracy_score(y_test, y_pred))"
   ]
  },
  {
   "cell_type": "markdown",
   "metadata": {},
   "source": [
    "10. Make a comparative ROC plot of the naive bayes, logistic, gradient boosting, KNN classifiers, random forest, and SVM classifiers."
   ]
  },
  {
   "cell_type": "code",
   "execution_count": 14,
   "metadata": {},
   "outputs": [
    {
     "data": {
      "image/png": "[encoded data removed]",
      "text/plain": [
       "<Figure size 432x288 with 1 Axes>"
      ]
     },
     "metadata": {
      "needs_background": "light"
     },
     "output_type": "display_data"
    }
   ],
   "source": [
    "#insert 10\n",
    "plot_roc(y_test, y_proba_NB, \"Naive Bayes\")\n",
    "plot_roc(y_test, y_proba_GB, \"Gradient Boosting\")\n",
    "plot_roc(y_test, y_proba_LR, \"Log Regression\")\n",
    "plot_roc(y_test, y_proba_KNN,\"KNN\")\n",
    "plot_roc(y_test, y_proba_RF,\"Random Forest\")\n",
    "plot_roc(y_test, y_proba_SVM,\"SVM\")"
   ]
  },
  {
   "cell_type": "markdown",
   "metadata": {},
   "source": [
    "11.Take in a new school's data and predict the school's profit status using one of your previous classifier methods."
   ]
  },
  {
   "cell_type": "code",
   "execution_count": 15,
   "metadata": {},
   "outputs": [
    {
     "name": "stdout",
     "output_type": "stream",
     "text": [
      "[0]\n"
     ]
    }
   ],
   "source": [
    "#insert 11\n",
    "import random as rd\n",
    "m = rd.randint(0, len(X_test)) #randomly select a school in the test set\n",
    "newSchool = [list(X_test[m])]\n",
    "model = RandomForestClassifier(n_estimators=100)\n",
    "model.fit(X_train, y_train)\n",
    "print(model.predict(newSchool)) #using Random Forest Classifier, the model predict this new school to be non-profit\n",
    "\n",
    "\n",
    "\n",
    "\n"
   ]
  },
  {
   "cell_type": "markdown",
   "metadata": {},
   "source": [
    "12.What are the worst schools? Some of them are chains of schools so don't necessarily consider singular names but generalize to chains. Give a lot of justification for your analysis as everyone might have a different answer here. Insert these responses into your blog."
   ]
  },
  {
   "cell_type": "code",
   "execution_count": 19,
   "metadata": {},
   "outputs": [
    {
     "data": {
      "text/plain": [
       "3594    -246\n",
       "3037    -242\n",
       "2557    -232\n",
       "6007    -231\n",
       "2625    -231\n",
       "4738    -231\n",
       "3481    -230\n",
       "141     -227\n",
       "2620    -227\n",
       "3488    -226\n",
       "5475    -225\n",
       "1187    -221\n",
       "2524    -218\n",
       "3460    -217\n",
       "4871    -216\n",
       "2607    -216\n",
       "2622    -215\n",
       "1712    -213\n",
       "293     -212\n",
       "6665    -211\n",
       "2893    -211\n",
       "2089    -209\n",
       "5979    -208\n",
       "6668    -206\n",
       "3722    -206\n",
       "6111    -206\n",
       "6712    -205\n",
       "2393    -205\n",
       "3463    -204\n",
       "5278    -203\n",
       "        ... \n",
       "2000     430\n",
       "2735     431\n",
       "5144     443\n",
       "5434     448\n",
       "4395     448\n",
       "2712     451\n",
       "1193     453\n",
       "1153     454\n",
       "2796     454\n",
       "2781     459\n",
       "4462     469\n",
       "913      471\n",
       "3638     473\n",
       "6315     487\n",
       "2780     489\n",
       "6146     496\n",
       "923      497\n",
       "2155     499\n",
       "5343     500\n",
       "5283     504\n",
       "1137     513\n",
       "4236     523\n",
       "3362     532\n",
       "4256     625\n",
       "5182     719\n",
       "6003     748\n",
       "1232     902\n",
       "5141     969\n",
       "6433    1013\n",
       "1768    1789\n",
       "Name: score, Length: 6740, dtype: int64"
      ]
     },
     "execution_count": 19,
     "metadata": {},
     "output_type": "execute_result"
    }
   ],
   "source": [
    "# insert 12\n",
    "# coming up with a ranking system of college by assigning each college a ranking score:\n",
    "scaler = StandardScaler()\n",
    "X = df[['instructional_expenditure_per_fte', 'retention','faculty_salary','7_yr_repayment_completion','5_year_declining_balance','tuition_revenue_per_fte','pell_grant_debt']]\n",
    "X = scaler.fit_transform(X)\n",
    "X = pd.DataFrame(X, columns = ['instructional_expenditure_per_fte', 'retention','faculty_salary','7_yr_repayment_completion','5_year_declining_balance','tuition_revenue_per_fte','pell_grant_debt'])\n",
    "\n",
    "\n",
    "X['name'] = df['name']\n",
    "\n",
    "X['score'] = 0\n",
    "\n",
    "for i in range(len(X)):\n",
    "    X.at[i,'score'] = (X.iloc[i][0:5].mean()+X.iloc[i][5:7].mean())*100 #The score is calulated as the average of five scaled variables minus the average of another two scaled variables\n",
    "X['score'].sort_values()\n",
    "\n",
    "#The first five variables are postitively related to the standards of a good school: spending lots of budgets on \n",
    "#educationl resources, lots of students choosing to stay after their first year(s), faculty staffs are well-paid,\n",
    "#students are doing well at paying off their loans.\n",
    "#The other two vairables are, intuitively, negatively related to the standards of a good school: students are paying\n",
    "#a large part of the educational cost on their own, they are accumulating lots of debts \n"
   ]
  },
  {
   "cell_type": "markdown",
   "metadata": {},
   "source": [
    "According to the ranking scores, the worst five colleges are:"
   ]
  },
  {
   "cell_type": "code",
   "execution_count": 22,
   "metadata": {},
   "outputs": [
    {
     "name": "stdout",
     "output_type": "stream",
     "text": [
      "Mesabi Range College\n",
      "Lincoln Technical Institute-Lowell\n",
      "Success Schools\n",
      "Citizens School of Nursing\n",
      "Bryant & Stratton College-Albany\n"
     ]
    }
   ],
   "source": [
    "print(X.iloc[3594][-2])\n",
    "print(X.iloc[3037][-2])\n",
    "print(X.iloc[2557][-2])\n",
    "print(X.iloc[6007][-2])\n",
    "print(X.iloc[4738][-2])"
   ]
  },
  {
   "cell_type": "markdown",
   "metadata": {},
   "source": [
    "13.If you were a governmental organization overseeing accreditation, what factors would be most important to you in making sure that the college was non-predatory? Give a lot of detail here as well in your blog."
   ]
  },
  {
   "cell_type": "code",
   "execution_count": 24,
   "metadata": {},
   "outputs": [],
   "source": [
    "#insert 13\n",
    "#-The net price of colleges: the amount that a student pays per year in an academic institution after substracting any\n",
    "#scholarships or grants that the student receives. It's a fairer metric to evaluate the actual cost of colleges than \n",
    "#just tuition. Colleges with unreasonably high Net Price that are not affordable to most students can potentially \n",
    "#be predatory.\n",
    "#(https://bigfuture.collegeboard.org/pay-for-college/paying-your-share/focus-on-net-price-not-sticker-price)\n",
    "#-Whether the colleges use distorted information and deceptive tactics in their advertisements for prospective\n",
    "#students to enroll their school and leave them with enormous debts. Example: the largely online, for-profit Ashford University.\n",
    "#\"Ashford's salespeople made a wide variety of false and misleading statements to prospective students to meet their enrollment growth targets, \n",
    "#including how much financial aid students would get, how many prior academic credits would transfer into the school, and the school’s ability \n",
    "#to prepare students for careers in fields like social work, nursing, medical billing, and teaching;\n",
    "#For-profit Ashford misled investors and the public in its filings with the Securities and Exchange Commission by inflating the percentage \n",
    "#of working alumni who reported that their Ashford degree prepared them for their current job;\" \n",
    "#(https://oag.ca.gov/system/files/attachments/press_releases/Complaint_8.pdf)\n",
    "#Its students not only owe billions in federal loans, but Ashford claims that they also mean hundreds of millions of\n",
    "#dollars directly to the school. To collect that money, Ashford has engaged in aggressive and illegal practice like \n",
    "#threatening and imposing unlawful debt collection fees.\n",
    "#-Whether the colleges are targeting students of minority groups: \n",
    "#Ashford also especially harms students of color given the school’s intentional racial targeting of minority students \n",
    "#and minority students’ greater risk of debt, default, and economic distress.\n",
    "#Black college enrollment has increased at nearly twice the rate of white enrollment in recent years, but a disproportionate number of \n",
    "#those African-American students end up at for-profit schools. \n",
    "#(https://www.motherjones.com/politics/2014/09/for-profit-university-subprime-student-poor-minority/)\n",
    "#However,for-profit graduates fare little better on the job market than job seekers with high school degrees; their diplomas, \n",
    "#that is, are a net loss, offering essentially the same grim job prospects as if they had never gone to college, plus a lifetime debt sentence.\n",
    "#('https://thesocietypages.org/socimages/2014/12/29/in-employers-eyes-for-profit-colleges-are-equivalent-to-high-school/')\n",
    "#-Whether the schools are reaping profits from federal student aids:\n",
    "#Example: IIT\n",
    "#For-profit schools recruit heavily in low-income communities, and most students finance their education with a mix of federal Pell grants \n",
    "#and federal student loans. But government-backed student loans max out at $12,500 per school year, and tuition at for-profits can go much higher; \n",
    "#at ITT Tech it runs up to $25,000. What’s more, for-profit colleges can only receive 90 percent of their revenue from government money. \n",
    "#For the remaining 10 percent, they count on veterans—GI Bill money counts as outside funds—as well as scholarships and private loans.\n",
    "#https://www.motherjones.com/politics/2014/01/for-profit-college-student-debt/\n",
    "#Such schools now enroll around 10% of America’s college students, but take in more than a quarter of all federal financial aid—as much as $33 billion in a single year.\n",
    "#https://www.motherjones.com/politics/2014/09/for-profit-university-subprime-student-poor-minority/\n",
    "#-debt-to-earnings ratio: if graduates need to spend too much of their income paying down loans — then the program is ruled ineligible to receive federal financial aid.\n",
    "#Example: Harvard A.R.T. Institute. On average, graduates earn about $36,000 per year. However, students borrow on average $78,000 to obtain their degrees.\n",
    "#After accounting for basic living expenses, the average Harvard A.R.T. Institute graduate has to pay 44 percent of discretionary income just to make the minimum loan payment.\n"
   ]
  },
  {
   "cell_type": "markdown",
   "metadata": {},
   "source": [
    "14.Read several articles on college predatory practices and cite and incorporate them into your blog discussion. Remember to link to them clearly by using the \n",
    "```[here](http://....)``` syntax."
   ]
  },
  {
   "cell_type": "code",
   "execution_count": null,
   "metadata": {},
   "outputs": [],
   "source": []
  }
 ],
 "metadata": {
  "kernelspec": {
   "display_name": "Python 3",
   "language": "python",
   "name": "python3"
  },
  "language_info": {
   "codemirror_mode": {
    "name": "ipython",
    "version": 3
   },
   "file_extension": ".py",
   "mimetype": "text/x-python",
   "name": "python",
   "nbconvert_exporter": "python",
   "pygments_lexer": "ipython3",
   "version": "3.7.3"
  }
 },
 "nbformat": 4,
 "nbformat_minor": 1
}
