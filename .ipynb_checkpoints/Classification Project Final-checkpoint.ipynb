{
 "cells": [
  {
   "cell_type": "code",
   "execution_count": 1,
   "metadata": {},
   "outputs": [],
   "source": [
    "import pandas as pd\n",
    "import numpy as np\n",
    "from matplotlib import pylab as plt\n",
    "%matplotlib inline\n",
    "from matplotlib.colors import ListedColormap\n",
    "import matplotlib.cm as cm\n",
    "\n",
    "from sklearn.model_selection import train_test_split\n",
    "from sklearn.linear_model import LogisticRegression\n",
    "from sklearn.linear_model import LogisticRegressionCV\n",
    "from sklearn import naive_bayes\n",
    "from sklearn.neighbors import KNeighborsClassifier\n",
    "from sklearn.model_selection import GridSearchCV\n",
    "from sklearn.model_selection import KFold\n",
    "from sklearn import svm\n",
    "from sklearn.ensemble import RandomForestClassifier\n",
    "from sklearn.ensemble import GradientBoostingClassifier\n",
    "\n",
    "from sklearn.tree import DecisionTreeClassifier\n",
    "from sklearn.neural_network import MLPClassifier\n",
    "\n",
    "from sklearn.pipeline import Pipeline\n",
    "from sklearn.preprocessing import StandardScaler\n",
    "from sklearn.pipeline import make_pipeline\n",
    "\n",
    "from sklearn.metrics import accuracy_score, confusion_matrix, classification_report\n",
    "from sklearn.metrics import roc_curve, roc_auc_score, average_precision_score\n",
    "from sklearn.metrics import precision_recall_curve\n",
    "from sklearn.metrics import precision_score, recall_score\n",
    "\n",
    "from itertools import product\n",
    "\n",
    "from sklearn.feature_selection import SelectKBest\n",
    "from sklearn.feature_selection import chi2\n",
    "\n",
    "from scipy.stats import mode"
   ]
  },
  {
   "cell_type": "markdown",
   "metadata": {},
   "source": [
    "I pulled and cleaned a comprehensive dataset of colleges from this governmental database:\n",
    "    \n",
    "https://collegescorecard.ed.gov/data/\n",
    "\n",
    "Let's read this dataset in:"
   ]
  },
  {
   "cell_type": "code",
   "execution_count": 2,
   "metadata": {},
   "outputs": [
    {
     "name": "stdout",
     "output_type": "stream",
     "text": [
      "(6740, 46)\n"
     ]
    },
    {
     "data": {
      "text/html": [
       "<div>\n",
       "<style scoped>\n",
       "    .dataframe tbody tr th:only-of-type {\n",
       "        vertical-align: middle;\n",
       "    }\n",
       "\n",
       "    .dataframe tbody tr th {\n",
       "        vertical-align: top;\n",
       "    }\n",
       "\n",
       "    .dataframe thead th {\n",
       "        text-align: right;\n",
       "    }\n",
       "</style>\n",
       "<table border=\"1\" class=\"dataframe\">\n",
       "  <thead>\n",
       "    <tr style=\"text-align: right;\">\n",
       "      <th></th>\n",
       "      <th>name</th>\n",
       "      <th>ownership</th>\n",
       "      <th>ope6_id</th>\n",
       "      <th>state</th>\n",
       "      <th>size</th>\n",
       "      <th>accreditor</th>\n",
       "      <th>retention</th>\n",
       "      <th>branches</th>\n",
       "      <th>online_only</th>\n",
       "      <th>religious_affil</th>\n",
       "      <th>...</th>\n",
       "      <th>fafsa_sent</th>\n",
       "      <th>7_yr_repayment_completion</th>\n",
       "      <th>5_year_declining_balance</th>\n",
       "      <th>relig_y_n</th>\n",
       "      <th>accred_y_n</th>\n",
       "      <th>retention_listed_y_n</th>\n",
       "      <th>fac_salary_listed_y_n</th>\n",
       "      <th>7_yr_repayment_completion_y_n</th>\n",
       "      <th>5_year_declining_balance_y_n</th>\n",
       "      <th>for_profit</th>\n",
       "    </tr>\n",
       "  </thead>\n",
       "  <tbody>\n",
       "    <tr>\n",
       "      <th>0</th>\n",
       "      <td>Alaska Bible College</td>\n",
       "      <td>2</td>\n",
       "      <td>8843</td>\n",
       "      <td>AK</td>\n",
       "      <td>27</td>\n",
       "      <td>Association for Bibical Higher Educaiton</td>\n",
       "      <td>0.333300</td>\n",
       "      <td>1</td>\n",
       "      <td>0</td>\n",
       "      <td>88.0</td>\n",
       "      <td>...</td>\n",
       "      <td>0.463652</td>\n",
       "      <td>0.699542</td>\n",
       "      <td>0.496850</td>\n",
       "      <td>1</td>\n",
       "      <td>1</td>\n",
       "      <td>1</td>\n",
       "      <td>1</td>\n",
       "      <td>0</td>\n",
       "      <td>0</td>\n",
       "      <td>0</td>\n",
       "    </tr>\n",
       "    <tr>\n",
       "      <th>1</th>\n",
       "      <td>Alaska Christian College</td>\n",
       "      <td>2</td>\n",
       "      <td>41386</td>\n",
       "      <td>AK</td>\n",
       "      <td>68</td>\n",
       "      <td>Association for Bibical Higher Educaiton</td>\n",
       "      <td>0.473700</td>\n",
       "      <td>1</td>\n",
       "      <td>0</td>\n",
       "      <td>37.0</td>\n",
       "      <td>...</td>\n",
       "      <td>0.463652</td>\n",
       "      <td>0.699542</td>\n",
       "      <td>0.496850</td>\n",
       "      <td>1</td>\n",
       "      <td>1</td>\n",
       "      <td>1</td>\n",
       "      <td>1</td>\n",
       "      <td>0</td>\n",
       "      <td>0</td>\n",
       "      <td>0</td>\n",
       "    </tr>\n",
       "    <tr>\n",
       "      <th>2</th>\n",
       "      <td>Ilisagvik College</td>\n",
       "      <td>1</td>\n",
       "      <td>34613</td>\n",
       "      <td>AK</td>\n",
       "      <td>109</td>\n",
       "      <td>Northwest Commission on Colleges and Universities</td>\n",
       "      <td>0.809500</td>\n",
       "      <td>1</td>\n",
       "      <td>0</td>\n",
       "      <td>-2.0</td>\n",
       "      <td>...</td>\n",
       "      <td>0.463652</td>\n",
       "      <td>0.699542</td>\n",
       "      <td>0.496850</td>\n",
       "      <td>0</td>\n",
       "      <td>1</td>\n",
       "      <td>1</td>\n",
       "      <td>1</td>\n",
       "      <td>0</td>\n",
       "      <td>0</td>\n",
       "      <td>0</td>\n",
       "    </tr>\n",
       "    <tr>\n",
       "      <th>3</th>\n",
       "      <td>Charter College-Anchorage</td>\n",
       "      <td>3</td>\n",
       "      <td>25769</td>\n",
       "      <td>AK</td>\n",
       "      <td>3256</td>\n",
       "      <td>Accrediting Council for Independent Colleges a...</td>\n",
       "      <td>0.703723</td>\n",
       "      <td>1</td>\n",
       "      <td>0</td>\n",
       "      <td>-2.0</td>\n",
       "      <td>...</td>\n",
       "      <td>0.310288</td>\n",
       "      <td>0.725806</td>\n",
       "      <td>0.417949</td>\n",
       "      <td>0</td>\n",
       "      <td>1</td>\n",
       "      <td>0</td>\n",
       "      <td>1</td>\n",
       "      <td>1</td>\n",
       "      <td>1</td>\n",
       "      <td>1</td>\n",
       "    </tr>\n",
       "    <tr>\n",
       "      <th>4</th>\n",
       "      <td>Alaska Career College</td>\n",
       "      <td>3</td>\n",
       "      <td>25410</td>\n",
       "      <td>AK</td>\n",
       "      <td>479</td>\n",
       "      <td>Accrediting Commission of Career Schools and C...</td>\n",
       "      <td>0.794100</td>\n",
       "      <td>1</td>\n",
       "      <td>0</td>\n",
       "      <td>-2.0</td>\n",
       "      <td>...</td>\n",
       "      <td>0.254237</td>\n",
       "      <td>0.556430</td>\n",
       "      <td>0.462520</td>\n",
       "      <td>0</td>\n",
       "      <td>1</td>\n",
       "      <td>1</td>\n",
       "      <td>1</td>\n",
       "      <td>1</td>\n",
       "      <td>1</td>\n",
       "      <td>1</td>\n",
       "    </tr>\n",
       "  </tbody>\n",
       "</table>\n",
       "<p>5 rows × 46 columns</p>\n",
       "</div>"
      ],
      "text/plain": [
       "                        name  ownership  ope6_id state  size  \\\n",
       "0       Alaska Bible College          2     8843    AK    27   \n",
       "1   Alaska Christian College          2    41386    AK    68   \n",
       "2          Ilisagvik College          1    34613    AK   109   \n",
       "3  Charter College-Anchorage          3    25769    AK  3256   \n",
       "4      Alaska Career College          3    25410    AK   479   \n",
       "\n",
       "                                          accreditor  retention  branches  \\\n",
       "0           Association for Bibical Higher Educaiton   0.333300         1   \n",
       "1           Association for Bibical Higher Educaiton   0.473700         1   \n",
       "2  Northwest Commission on Colleges and Universities   0.809500         1   \n",
       "3  Accrediting Council for Independent Colleges a...   0.703723         1   \n",
       "4  Accrediting Commission of Career Schools and C...   0.794100         1   \n",
       "\n",
       "   online_only  religious_affil  ...  fafsa_sent  7_yr_repayment_completion  \\\n",
       "0            0             88.0  ...    0.463652                   0.699542   \n",
       "1            0             37.0  ...    0.463652                   0.699542   \n",
       "2            0             -2.0  ...    0.463652                   0.699542   \n",
       "3            0             -2.0  ...    0.310288                   0.725806   \n",
       "4            0             -2.0  ...    0.254237                   0.556430   \n",
       "\n",
       "   5_year_declining_balance  relig_y_n  accred_y_n  retention_listed_y_n  \\\n",
       "0                  0.496850          1           1                     1   \n",
       "1                  0.496850          1           1                     1   \n",
       "2                  0.496850          0           1                     1   \n",
       "3                  0.417949          0           1                     0   \n",
       "4                  0.462520          0           1                     1   \n",
       "\n",
       "   fac_salary_listed_y_n  7_yr_repayment_completion_y_n  \\\n",
       "0                      1                              0   \n",
       "1                      1                              0   \n",
       "2                      1                              0   \n",
       "3                      1                              1   \n",
       "4                      1                              1   \n",
       "\n",
       "   5_year_declining_balance_y_n  for_profit  \n",
       "0                             0           0  \n",
       "1                             0           0  \n",
       "2                             0           0  \n",
       "3                             1           1  \n",
       "4                             1           1  \n",
       "\n",
       "[5 rows x 46 columns]"
      ]
     },
     "execution_count": 2,
     "metadata": {},
     "output_type": "execute_result"
    }
   ],
   "source": [
    "df = pd.read_csv('data/schools.csv', index_col = 0)\n",
    "print(df.shape)\n",
    "df.head()"
   ]
  },
  {
   "cell_type": "markdown",
   "metadata": {},
   "source": [
    "We are going to use classification algorithms to try to predict for-profit or non-profit status. \n",
    "\n",
    "Some of the categories aren't applicable to what we want to do so let's consider the following columns only:\n"
   ]
  },
  {
   "cell_type": "code",
   "execution_count": 3,
   "metadata": {},
   "outputs": [
    {
     "data": {
      "text/html": [
       "<div>\n",
       "<style scoped>\n",
       "    .dataframe tbody tr th:only-of-type {\n",
       "        vertical-align: middle;\n",
       "    }\n",
       "\n",
       "    .dataframe tbody tr th {\n",
       "        vertical-align: top;\n",
       "    }\n",
       "\n",
       "    .dataframe thead th {\n",
       "        text-align: right;\n",
       "    }\n",
       "</style>\n",
       "<table border=\"1\" class=\"dataframe\">\n",
       "  <thead>\n",
       "    <tr style=\"text-align: right;\">\n",
       "      <th></th>\n",
       "      <th>size</th>\n",
       "      <th>retention</th>\n",
       "      <th>branches</th>\n",
       "      <th>online_only</th>\n",
       "      <th>under_investigation</th>\n",
       "      <th>most_common_degree</th>\n",
       "      <th>highest_degree</th>\n",
       "      <th>faculty_salary</th>\n",
       "      <th>instructional_expenditure_per_fte</th>\n",
       "      <th>tuition_revenue_per_fte</th>\n",
       "      <th>...</th>\n",
       "      <th>fafsa_sent</th>\n",
       "      <th>7_yr_repayment_completion</th>\n",
       "      <th>5_year_declining_balance</th>\n",
       "      <th>relig_y_n</th>\n",
       "      <th>accred_y_n</th>\n",
       "      <th>retention_listed_y_n</th>\n",
       "      <th>fac_salary_listed_y_n</th>\n",
       "      <th>7_yr_repayment_completion_y_n</th>\n",
       "      <th>5_year_declining_balance_y_n</th>\n",
       "      <th>for_profit</th>\n",
       "    </tr>\n",
       "  </thead>\n",
       "  <tbody>\n",
       "    <tr>\n",
       "      <th>0</th>\n",
       "      <td>27</td>\n",
       "      <td>0.333300</td>\n",
       "      <td>1</td>\n",
       "      <td>0</td>\n",
       "      <td>0</td>\n",
       "      <td>3</td>\n",
       "      <td>3</td>\n",
       "      <td>2201</td>\n",
       "      <td>9585</td>\n",
       "      <td>8132</td>\n",
       "      <td>...</td>\n",
       "      <td>0.463652</td>\n",
       "      <td>0.699542</td>\n",
       "      <td>0.496850</td>\n",
       "      <td>1</td>\n",
       "      <td>1</td>\n",
       "      <td>1</td>\n",
       "      <td>1</td>\n",
       "      <td>0</td>\n",
       "      <td>0</td>\n",
       "      <td>0</td>\n",
       "    </tr>\n",
       "    <tr>\n",
       "      <th>1</th>\n",
       "      <td>68</td>\n",
       "      <td>0.473700</td>\n",
       "      <td>1</td>\n",
       "      <td>0</td>\n",
       "      <td>0</td>\n",
       "      <td>1</td>\n",
       "      <td>2</td>\n",
       "      <td>5554</td>\n",
       "      <td>18174</td>\n",
       "      <td>12989</td>\n",
       "      <td>...</td>\n",
       "      <td>0.463652</td>\n",
       "      <td>0.699542</td>\n",
       "      <td>0.496850</td>\n",
       "      <td>1</td>\n",
       "      <td>1</td>\n",
       "      <td>1</td>\n",
       "      <td>1</td>\n",
       "      <td>0</td>\n",
       "      <td>0</td>\n",
       "      <td>0</td>\n",
       "    </tr>\n",
       "    <tr>\n",
       "      <th>2</th>\n",
       "      <td>109</td>\n",
       "      <td>0.809500</td>\n",
       "      <td>1</td>\n",
       "      <td>0</td>\n",
       "      <td>0</td>\n",
       "      <td>1</td>\n",
       "      <td>2</td>\n",
       "      <td>6054</td>\n",
       "      <td>38265</td>\n",
       "      <td>3587</td>\n",
       "      <td>...</td>\n",
       "      <td>0.463652</td>\n",
       "      <td>0.699542</td>\n",
       "      <td>0.496850</td>\n",
       "      <td>0</td>\n",
       "      <td>1</td>\n",
       "      <td>1</td>\n",
       "      <td>1</td>\n",
       "      <td>0</td>\n",
       "      <td>0</td>\n",
       "      <td>0</td>\n",
       "    </tr>\n",
       "    <tr>\n",
       "      <th>3</th>\n",
       "      <td>3256</td>\n",
       "      <td>0.703723</td>\n",
       "      <td>1</td>\n",
       "      <td>0</td>\n",
       "      <td>0</td>\n",
       "      <td>1</td>\n",
       "      <td>3</td>\n",
       "      <td>4004</td>\n",
       "      <td>2617</td>\n",
       "      <td>8755</td>\n",
       "      <td>...</td>\n",
       "      <td>0.310288</td>\n",
       "      <td>0.725806</td>\n",
       "      <td>0.417949</td>\n",
       "      <td>0</td>\n",
       "      <td>1</td>\n",
       "      <td>0</td>\n",
       "      <td>1</td>\n",
       "      <td>1</td>\n",
       "      <td>1</td>\n",
       "      <td>1</td>\n",
       "    </tr>\n",
       "    <tr>\n",
       "      <th>4</th>\n",
       "      <td>479</td>\n",
       "      <td>0.794100</td>\n",
       "      <td>1</td>\n",
       "      <td>0</td>\n",
       "      <td>0</td>\n",
       "      <td>1</td>\n",
       "      <td>2</td>\n",
       "      <td>3861</td>\n",
       "      <td>4178</td>\n",
       "      <td>11905</td>\n",
       "      <td>...</td>\n",
       "      <td>0.254237</td>\n",
       "      <td>0.556430</td>\n",
       "      <td>0.462520</td>\n",
       "      <td>0</td>\n",
       "      <td>1</td>\n",
       "      <td>1</td>\n",
       "      <td>1</td>\n",
       "      <td>1</td>\n",
       "      <td>1</td>\n",
       "      <td>1</td>\n",
       "    </tr>\n",
       "  </tbody>\n",
       "</table>\n",
       "<p>5 rows × 33 columns</p>\n",
       "</div>"
      ],
      "text/plain": [
       "   size  retention  branches  online_only  under_investigation  \\\n",
       "0    27   0.333300         1            0                    0   \n",
       "1    68   0.473700         1            0                    0   \n",
       "2   109   0.809500         1            0                    0   \n",
       "3  3256   0.703723         1            0                    0   \n",
       "4   479   0.794100         1            0                    0   \n",
       "\n",
       "   most_common_degree  highest_degree  faculty_salary  \\\n",
       "0                   3               3            2201   \n",
       "1                   1               2            5554   \n",
       "2                   1               2            6054   \n",
       "3                   1               3            4004   \n",
       "4                   1               2            3861   \n",
       "\n",
       "   instructional_expenditure_per_fte  tuition_revenue_per_fte  ...  \\\n",
       "0                               9585                     8132  ...   \n",
       "1                              18174                    12989  ...   \n",
       "2                              38265                     3587  ...   \n",
       "3                               2617                     8755  ...   \n",
       "4                               4178                    11905  ...   \n",
       "\n",
       "   fafsa_sent  7_yr_repayment_completion  5_year_declining_balance  relig_y_n  \\\n",
       "0    0.463652                   0.699542                  0.496850          1   \n",
       "1    0.463652                   0.699542                  0.496850          1   \n",
       "2    0.463652                   0.699542                  0.496850          0   \n",
       "3    0.310288                   0.725806                  0.417949          0   \n",
       "4    0.254237                   0.556430                  0.462520          0   \n",
       "\n",
       "   accred_y_n  retention_listed_y_n  fac_salary_listed_y_n  \\\n",
       "0           1                     1                      1   \n",
       "1           1                     1                      1   \n",
       "2           1                     1                      1   \n",
       "3           1                     0                      1   \n",
       "4           1                     1                      1   \n",
       "\n",
       "   7_yr_repayment_completion_y_n  5_year_declining_balance_y_n  for_profit  \n",
       "0                              0                             0           0  \n",
       "1                              0                             0           0  \n",
       "2                              0                             0           0  \n",
       "3                              1                             1           1  \n",
       "4                              1                             1           1  \n",
       "\n",
       "[5 rows x 33 columns]"
      ]
     },
     "execution_count": 3,
     "metadata": {},
     "output_type": "execute_result"
    }
   ],
   "source": [
    "X = df[['size','retention','branches', 'online_only', 'under_investigation', 'most_common_degree', 'highest_degree',\n",
    "       'faculty_salary', 'instructional_expenditure_per_fte',\n",
    "       'tuition_revenue_per_fte', 'part_time_share',\n",
    "       'age_entry', 'percent_dependent', 'first_generation', 'percent_black',\n",
    "        'avg_family_income','ind_low_income', 'dep_low_income', 'loan_principal',\n",
    "       'federal_loan_rate', 'students_with_any_loans',\n",
    "       'pell_grant_debt', 'percent_pell_grant',\n",
    "       'fafsa_sent', '7_yr_repayment_completion', '5_year_declining_balance',\n",
    "       'relig_y_n', 'accred_y_n', 'retention_listed_y_n',\n",
    "       'fac_salary_listed_y_n', '7_yr_repayment_completion_y_n',\n",
    "       '5_year_declining_balance_y_n', 'for_profit']]\n",
    "X.head()"
   ]
  },
  {
   "cell_type": "markdown",
   "metadata": {},
   "source": [
    "Let's first use a method called [SelectKBest](https://scikit-learn.org/stable/modules/generated/sklearn.feature_selection.chi2.html) to see which features have the most statistically significant relationships with profit status. The **lower** the p value, the **more** statistically significant:"
   ]
  },
  {
   "cell_type": "code",
   "execution_count": 4,
   "metadata": {},
   "outputs": [
    {
     "name": "stdout",
     "output_type": "stream",
     "text": [
      "chi2-value feature\n"
     ]
    },
    {
     "data": {
      "text/plain": [
       "[(0.0, 'avg_family_income'),\n",
       " (0.0, 'branches'),\n",
       " (0.0, 'faculty_salary'),\n",
       " (0.0, 'instructional_expenditure_per_fte'),\n",
       " (0.0, 'loan_principal'),\n",
       " (0.0, 'pell_grant_debt'),\n",
       " (0.0, 'size'),\n",
       " (0.0, 'tuition_revenue_per_fte'),\n",
       " (5.339096890496358e-283, 'highest_degree'),\n",
       " (2.3550018048916394e-222, 'most_common_degree'),\n",
       " (5.4025502611485345e-149, 'fac_salary_listed_y_n'),\n",
       " (8.240679129762035e-148, 'relig_y_n'),\n",
       " (5.293172158552389e-143, 'age_entry'),\n",
       " (1.4125160311604572e-48, 'percent_dependent'),\n",
       " (1.429381130658807e-24, '5_year_declining_balance'),\n",
       " (1.3527931483014932e-21, 'federal_loan_rate'),\n",
       " (6.095800240149601e-17, 'percent_black'),\n",
       " (3.249757484508949e-15, 'fafsa_sent'),\n",
       " (2.3099399670292976e-10, '7_yr_repayment_completion'),\n",
       " (5.332261659651546e-09, 'first_generation'),\n",
       " (1.4079344574521532e-08, 'part_time_share'),\n",
       " (1.51637032044754e-08, 'dep_low_income'),\n",
       " (5.389960032435694e-08, 'percent_pell_grant'),\n",
       " (2.9423628117769607e-06, 'students_with_any_loans'),\n",
       " (9.035892891499908e-06, 'under_investigation'),\n",
       " (0.006314439338573356, 'retention_listed_y_n'),\n",
       " (0.012536378966747178, 'online_only'),\n",
       " (0.01746153785302311, 'ind_low_income'),\n",
       " (0.5021649291685133, '5_year_declining_balance_y_n'),\n",
       " (0.6158853388832327, 'retention'),\n",
       " (0.8250416943743915, 'accred_y_n'),\n",
       " (0.9230148052834302, '7_yr_repayment_completion_y_n')]"
      ]
     },
     "execution_count": 4,
     "metadata": {},
     "output_type": "execute_result"
    }
   ],
   "source": [
    "y = X.pop('for_profit')\n",
    "\n",
    "X_new = SelectKBest(chi2, k=2).fit(X, y)\n",
    "\n",
    "features = []\n",
    "for i, column in enumerate(X.columns):\n",
    "    features.append((X_new.pvalues_[i], column))\n",
    "features.sort()\n",
    "print('chi2-value', 'feature')\n",
    "features"
   ]
  },
  {
   "cell_type": "markdown",
   "metadata": {},
   "source": [
    "1.Based on the info above, what was intuitive? What was surprising? How big (or small) of an effect does accredition have on for-profit status? What might be some guesses as to why this is the case?"
   ]
  },
  {
   "cell_type": "code",
   "execution_count": 5,
   "metadata": {},
   "outputs": [],
   "source": [
    "#insert 1\n",
    "#Varaibles like 'avg_family_income', 'faculty_salary', etc, are all connected to finance. It makes sense that they are most statistically significanlly related to profit status. It's surprising to me that '7_yr_repayment_completion_y_n' has such a high p value. The ability of students to pay their loans should be somewhat related to profit status. There is about 82.5% chance that accredition have no effect on for-profit status, so it is a very small effect. Perhaps, profit status is not included in acrreditation standards."
   ]
  },
  {
   "cell_type": "markdown",
   "metadata": {},
   "source": [
    "2.Do a test/train split and give the testing accuracy error for logistic regression."
   ]
  },
  {
   "cell_type": "code",
   "execution_count": 6,
   "metadata": {},
   "outputs": [
    {
     "name": "stdout",
     "output_type": "stream",
     "text": [
      "test accuracy 0.923837784371909\n"
     ]
    }
   ],
   "source": [
    "#insert 2\n",
    "X_train, X_test, y_train, y_test = train_test_split(X, y, test_size=0.3, random_state=90)\n",
    "Xt = X_train\n",
    "Xte = X_test\n",
    "\n",
    "scaler = StandardScaler()\n",
    "X_train = scaler.fit_transform(X_train)\n",
    "X_test = scaler.fit_transform(X_test)\n",
    "\n",
    "model = LogisticRegression(multi_class = \"auto\", solver = 'lbfgs', max_iter=10000)\n",
    "model.fit(X_train, y_train)\n",
    "\n",
    "#print('train accuracy ', model.score(X_train, y_train))\n",
    "print('test accuracy', model.score(X_test,y_test))"
   ]
  },
  {
   "cell_type": "markdown",
   "metadata": {},
   "source": [
    "3.Find the optimal number of nearest neighbors for KNN using grid search and then give the test accuracy. "
   ]
  },
  {
   "cell_type": "code",
   "execution_count": 7,
   "metadata": {},
   "outputs": [
    {
     "name": "stdout",
     "output_type": "stream",
     "text": [
      "test accuracy 0.9327398615232443\n"
     ]
    }
   ],
   "source": [
    "#insert 3\n",
    "param_grid = {'n_neighbors': range(1, 20)}\n",
    "\n",
    "model = GridSearchCV(KNeighborsClassifier(), \n",
    "                    param_grid, \n",
    "                    cv=3, \n",
    "                    scoring='accuracy')\n",
    "\n",
    "model = model.fit(X_train, y_train)\n",
    "\n",
    "#print(model.best_params_, model.best_estimator_)\n",
    "model = model.best_estimator_\n",
    "\n",
    "print('test accuracy', model.score(X_test, y_test))"
   ]
  },
  {
   "cell_type": "markdown",
   "metadata": {},
   "source": [
    "4.Run a classification report and describe in detail what the terms mean in the context of your model."
   ]
  },
  {
   "cell_type": "code",
   "execution_count": 8,
   "metadata": {},
   "outputs": [
    {
     "name": "stdout",
     "output_type": "stream",
     "text": [
      "              precision    recall  f1-score   support\n",
      "\n",
      "           0       0.95      0.93      0.94      1145\n",
      "           1       0.91      0.93      0.92       877\n",
      "\n",
      "    accuracy                           0.93      2022\n",
      "   macro avg       0.93      0.93      0.93      2022\n",
      "weighted avg       0.93      0.93      0.93      2022\n",
      "\n"
     ]
    }
   ],
   "source": [
    "#insert 4\n",
    "print(classification_report(y_test, model.predict(X_test)))"
   ]
  },
  {
   "cell_type": "markdown",
   "metadata": {},
   "source": [
    "**Precision:**\n",
    "\n",
    "Out of all colleges that the model predicts to be non-profit, 95% of them are labeled correctly.\n",
    "\n",
    "Out of all colleges that the model predicts to be for-profit, 91% of them are labeled correctly.\n",
    "\n",
    "**Recall:**\n",
    "\n",
    "The model correcly labels 93% of all non-profit colleges.\n",
    "\n",
    "The model correcly lablels 93% of all for-profit colleges.\n",
    "\n",
    "\n",
    "**Support:**\n",
    "\n",
    "The actual numbers of non-profit and for-profit colleges are 1145 and 877 respectively.\n",
    "\n",
    "**Accuracy:**\n",
    "\n",
    "The model is correct on labelling the profit status of colleges 93% of time.\n",
    "\n",
    "\n"
   ]
  },
  {
   "cell_type": "markdown",
   "metadata": {},
   "source": [
    "5.Print a confusion matrix and describe what it means in your context."
   ]
  },
  {
   "cell_type": "code",
   "execution_count": 9,
   "metadata": {},
   "outputs": [
    {
     "name": "stdout",
     "output_type": "stream",
     "text": [
      "[[1069   76]\n",
      " [  60  817]]\n"
     ]
    }
   ],
   "source": [
    "#insert 5\n",
    "print(confusion_matrix(y_test, model.predict(X_test)))"
   ]
  },
  {
   "cell_type": "markdown",
   "metadata": {},
   "source": [
    "The model correcly labels 1069 non-profit colleges while it mislabels 76 other non-profit colleges as for-profit ones.\n",
    "\n",
    "The model correly labels 817 for-profit colleges while it mislabels 60 other for-profit colleges as non-profit ones."
   ]
  },
  {
   "cell_type": "markdown",
   "metadata": {},
   "source": [
    "6.Make a comparative ROC plot of the naive bayes, logistic, gradient boosting, and KNN classifiers."
   ]
  },
  {
   "cell_type": "code",
   "execution_count": 10,
   "metadata": {},
   "outputs": [
    {
     "data": {
      "image/png": "[encoded data removed]",
      "text/plain": [
       "<Figure size 432x288 with 1 Axes>"
      ]
     },
     "metadata": {
      "needs_background": "light"
     },
     "output_type": "display_data"
    }
   ],
   "source": [
    "#insert 6\n",
    "y_proba_KNN = model.predict_proba(X_test)[:, 1]\n",
    "model = LogisticRegression(multi_class = \"auto\", solver = 'lbfgs', max_iter=10000)\n",
    "model.fit(X_train, y_train)\n",
    "\n",
    "# accuracy for test & train:    \n",
    "y_proba_LR = model.predict_proba(X_test)[:, 1]\n",
    "\n",
    "model = GradientBoostingClassifier()\n",
    "model.fit(X_train, y_train)\n",
    "\n",
    "# accuracy for test & train:    \n",
    "y_proba_GB = model.predict_proba(X_test)[:, 1]\n",
    "\n",
    "model = naive_bayes.GaussianNB()\n",
    "model.fit(Xt, y_train)\n",
    "   \n",
    "y_proba_NB = model.predict_proba(Xte)[:, 1]\n",
    "\n",
    "def plot_roc(ytrue, yproba, model, title='some ROC curve'):\n",
    "    auc = roc_auc_score(ytrue, yproba)\n",
    "    fpr, tpr, thr = roc_curve(ytrue, yproba)\n",
    "    plt.plot([0, 1], [0, 1], color='k', linestyle='--', linewidth=.4)\n",
    "    plt.plot(fpr, tpr, label='{} auc={:.2f}%'.format(model, auc*100))\n",
    "    plt.axis('equal')\n",
    "    plt.xlim([-.02, 1.02])\n",
    "    plt.ylim([-.02, 1.02])\n",
    "    plt.ylabel('tpr')\n",
    "    plt.xlabel('fpr')\n",
    "    plt.title(title)\n",
    "    plt.legend(loc='best')\n",
    "    plt.grid(True)\n",
    "\n",
    "plot_roc(y_test, y_proba_NB, \"Naive Bayes\")\n",
    "plot_roc(y_test, y_proba_GB, \"Gradient Boosting\")\n",
    "plot_roc(y_test, y_proba_LR, \"Log Regression\")\n",
    "plot_roc(y_test, y_proba_KNN,\"KNN\")"
   ]
  },
  {
   "cell_type": "markdown",
   "metadata": {
    "collapsed": true
   },
   "source": [
    "7.Using the logarithmic regression model, plot a decision boundary between instructional_expenditure_per_fte and 5_year_declining_balance. Does it appear that for-profit status has a clear boundary based on these predictors?"
   ]
  },
  {
   "cell_type": "code",
   "execution_count": 11,
   "metadata": {},
   "outputs": [
    {
     "name": "stdout",
     "output_type": "stream",
     "text": [
      "          0             1\n",
      "0  0.211986  5.109826e-15\n",
      "1  1.104804  5.109826e-15\n",
      "2  3.193243  5.109826e-15\n",
      "3 -0.512331 -4.539314e-01\n",
      "4 -0.350067 -1.975064e-01\n"
     ]
    }
   ],
   "source": [
    "X_2 = df[['instructional_expenditure_per_fte', '5_year_declining_balance']]\n",
    "#print(X_2.head())\n",
    "X_scaler = StandardScaler()\n",
    "X_2 = X_scaler.fit_transform(X_2)\n",
    "X_2 = pd.DataFrame(X_2)\n",
    "print(X_2.head())\n"
   ]
  },
  {
   "cell_type": "code",
   "execution_count": 12,
   "metadata": {},
   "outputs": [
    {
     "data": {
      "text/plain": [
       "(-2.941558886777559, 3.1784411132224464)"
      ]
     },
     "execution_count": 12,
     "metadata": {},
     "output_type": "execute_result"
    },
    {
     "data": {
      "image/png": "[encoded data removed]",
      "text/plain": [
       "<Figure size 288x216 with 1 Axes>"
      ]
     },
     "metadata": {
      "needs_background": "light"
     },
     "output_type": "display_data"
    }
   ],
   "source": [
    "#insert 7\n",
    "model = LogisticRegression(multi_class = \"auto\", solver = 'lbfgs', max_iter=10000)\n",
    "\n",
    "\n",
    "Q = X_2.values\n",
    "h = .02  # meshsize\n",
    "x_min, x_max = Q[:, 0].min() - .5, Q[:, 0].max() + .5 \n",
    "y_min, y_max = Q[:, 1].min() - .5, Q[:, 1].max() + .5\n",
    "#print(x_min,x_max)\n",
    "xx, yy = np.meshgrid(np.arange(x_min, x_max, h), np.arange(y_min, y_max, h))\n",
    "model.fit(X_2.iloc[:,:2], y)\n",
    "Z = model.predict(np.c_[xx.ravel(), yy.ravel()]) # ravel() flattens the data\n",
    "\n",
    "# Put the result into a color plot\n",
    "Z = Z.reshape(xx.shape)\n",
    "plt.figure(1, figsize=(4, 3))\n",
    "plt.pcolormesh(xx, yy, Z, cmap=plt.cm.Paired)\n",
    "\n",
    "# Plot also the training points\n",
    "plt.scatter(Q[:, 0], Q[:, 1], c=y, edgecolors='k', cmap=plt.cm.Paired)\n",
    "plt.title('Decision boundaries with 2 attributes')\n",
    "plt.xlabel('instructional_expenditure_per_fte')\n",
    "plt.ylabel('5_year_declining_balance')\n",
    "\n",
    "plt.xlim(xx.min(), 10)\n",
    "plt.ylim(yy.min(), yy.max())"
   ]
  },
  {
   "cell_type": "markdown",
   "metadata": {
    "scrolled": true
   },
   "source": [
    "8.We have not covered random forests but they are a very popular type of classifier. It is very good practice in reading the docs to get a new classifier working. Read [this](https://scikit-learn.org/stable/modules/generated/sklearn.ensemble.RandomForestClassifier.html) and then apply the RandomForestClassifier()."
   ]
  },
  {
   "cell_type": "code",
   "execution_count": 13,
   "metadata": {},
   "outputs": [
    {
     "name": "stdout",
     "output_type": "stream",
     "text": [
      "test accuracy 0.9460929772502473\n"
     ]
    }
   ],
   "source": [
    "#insert 8\n",
    "model = RandomForestClassifier(n_estimators=100)\n",
    "model.fit(X_train, y_train)\n",
    "y_proba_RF = model.predict_proba(X_test)[:, 1]\n",
    "#print('train accuracy ', model.score(X_train, y_train))\n",
    "print('test accuracy', model.score(X_test,y_test))"
   ]
  },
  {
   "cell_type": "markdown",
   "metadata": {},
   "source": [
    "9.Support vector machines are another type of classifier. Read the docs [here](https://scikit-learn.org/stable/modules/generated/sklearn.svm.SVC.html) and then try implementing that one."
   ]
  },
  {
   "cell_type": "code",
   "execution_count": 14,
   "metadata": {},
   "outputs": [
    {
     "name": "stdout",
     "output_type": "stream",
     "text": [
      "test accuracy 0.9352126607319485\n"
     ]
    }
   ],
   "source": [
    "#insert 9\n",
    "model = svm.SVC(gamma= 'auto',probability = True)\n",
    "model.fit(X_train, y_train)\n",
    "y_proba_SVM = model.predict_proba(X_test)[:, 1]\n",
    "y_pred = model.predict(X_test)\n",
    "\n",
    "#print('train accuracy ', model.score(X_train, y_train))\n",
    "print('test accuracy', accuracy_score(y_test, y_pred))"
   ]
  },
  {
   "cell_type": "markdown",
   "metadata": {},
   "source": [
    "10. Make a comparative ROC plot of the naive bayes, logistic, gradient boosting, KNN classifiers, random forest, and SVM classifiers."
   ]
  },
  {
   "cell_type": "code",
   "execution_count": 15,
   "metadata": {},
   "outputs": [
    {
     "data": {
      "image/png": "[encoded data removed]",
      "text/plain": [
       "<Figure size 432x288 with 1 Axes>"
      ]
     },
     "metadata": {
      "needs_background": "light"
     },
     "output_type": "display_data"
    }
   ],
   "source": [
    "#insert 10\n",
    "plot_roc(y_test, y_proba_NB, \"Naive Bayes\")\n",
    "plot_roc(y_test, y_proba_GB, \"Gradient Boosting\")\n",
    "plot_roc(y_test, y_proba_LR, \"Log Regression\")\n",
    "plot_roc(y_test, y_proba_KNN,\"KNN\")\n",
    "plot_roc(y_test, y_proba_RF,\"Random Forest\")\n",
    "plot_roc(y_test, y_proba_SVM,\"SVM\")"
   ]
  },
  {
   "cell_type": "markdown",
   "metadata": {},
   "source": [
    "11.Take in a new school's data and predict the school's profit status using one of your previous classifier methods."
   ]
  },
  {
   "cell_type": "code",
   "execution_count": 46,
   "metadata": {},
   "outputs": [
    {
     "name": "stdout",
     "output_type": "stream",
     "text": [
      "[0]\n"
     ]
    }
   ],
   "source": [
    "#insert 11\n",
    "import random as rd\n",
    "m = rd.randint(0, len(X_test)) #randomly select a school in the test set\n",
    "newSchool = [list(X_test[m])]\n",
    "model = RandomForestClassifier(n_estimators=100)\n",
    "model.fit(X_train, y_train)\n",
    "print(model.predict(newSchool)) #using Random Forest Classifier, the model predict this new school to be non-profit\n",
    "\n",
    "\n",
    "\n",
    "\n"
   ]
  },
  {
   "cell_type": "markdown",
   "metadata": {},
   "source": [
    "12.What are the worst schools? Some of them are chains of schools so don't necessarily consider singular names but generalize to chains. Give a lot of justification for your analysis as everyone might have a different answer here. Insert these responses into your blog."
   ]
  },
  {
   "cell_type": "code",
   "execution_count": 17,
   "metadata": {},
   "outputs": [],
   "source": [
    "# insert 12"
   ]
  },
  {
   "cell_type": "markdown",
   "metadata": {},
   "source": [
    "13.If you were a governmental organization overseeing accreditation, what factors would be most important to you in making sure that the college was non-predatory? Give a lot of detail here as well in your blog."
   ]
  },
  {
   "cell_type": "code",
   "execution_count": 18,
   "metadata": {},
   "outputs": [],
   "source": [
    "#insert 13"
   ]
  },
  {
   "cell_type": "markdown",
   "metadata": {},
   "source": [
    "14.Read several articles on college predatory practices and cite and incorporate them into your blog discussion. Remember to link to them clearly by using the \n",
    "```[here](http://....)``` syntax."
   ]
  },
  {
   "cell_type": "code",
   "execution_count": null,
   "metadata": {},
   "outputs": [],
   "source": []
  }
 ],
 "metadata": {
  "kernelspec": {
   "display_name": "Python 3",
   "language": "python",
   "name": "python3"
  },
  "language_info": {
   "codemirror_mode": {
    "name": "ipython",
    "version": 3
   },
   "file_extension": ".py",
   "mimetype": "text/x-python",
   "name": "python",
   "nbconvert_exporter": "python",
   "pygments_lexer": "ipython3",
   "version": "3.7.3"
  }
 },
 "nbformat": 4,
 "nbformat_minor": 1
}
